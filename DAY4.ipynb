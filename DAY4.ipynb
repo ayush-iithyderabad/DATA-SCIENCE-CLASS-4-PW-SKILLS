{
 "cells": [
  {
   "cell_type": "code",
   "execution_count": 1,
   "id": "bc2ba5d8-8ad4-47bb-9019-70b798673e64",
   "metadata": {},
   "outputs": [],
   "source": [
    "## IF ELSE , WHILE AND FOR "
   ]
  },
  {
   "cell_type": "code",
   "execution_count": 4,
   "id": "d5e41a39-9ace-4a9b-a463-bb9610f9c975",
   "metadata": {},
   "outputs": [
    {
     "name": "stdout",
     "output_type": "stream",
     "text": [
      "a is equal to 10\n"
     ]
    }
   ],
   "source": [
    "a=10\n",
    "if a>10:\n",
    "    print(\"yes a is greater than 10\") \n",
    "elif a==10:\n",
    "    print(\"a is equal to 10\")\n",
    "else:\n",
    "    print(\"a is  less than 10\")"
   ]
  },
  {
   "cell_type": "code",
   "execution_count": 8,
   "id": "afa61efd-6f51-4783-b26d-6f583f83f26b",
   "metadata": {},
   "outputs": [
    {
     "name": "stdout",
     "output_type": "stream",
     "text": [
      "yes b is greater than 10 but less than 30\n"
     ]
    }
   ],
   "source": [
    "b=20\n",
    "if b>=30:\n",
    "    print(\" yes b is greater than 30 or equal to 30\")\n",
    "elif b>10:\n",
    "    print(\"yes b is greater than 10 but less than 30\")\n",
    "else:\n",
    "    print(\"this is my default\")"
   ]
  },
  {
   "cell_type": "code",
   "execution_count": 9,
   "id": "85db127e-3a62-4794-8659-68f17f4359e8",
   "metadata": {},
   "outputs": [
    {
     "name": "stdin",
     "output_type": "stream",
     "text": [
      "enter the number 5\n"
     ]
    },
    {
     "name": "stdout",
     "output_type": "stream",
     "text": [
      "no condition is satisfied from the above\n"
     ]
    }
   ],
   "source": [
    "c=int(input(\"enter the number\"))\n",
    "if c>20 and c<40:\n",
    "    print(\"yes c is greater than 20 but less than 40\")\n",
    "elif c>40 and c<80:\n",
    "    print(\" yes c is greater than 40 but less than 80\")\n",
    "elif c>80 and  c<100:\n",
    "    print(\"yes c is greater than 80 but less than 100\")\n",
    "else:\n",
    "    print(\"no condition is satisfied from the above\")"
   ]
  },
  {
   "cell_type": "code",
   "execution_count": 10,
   "id": "513964a3-a11c-4537-99f1-3891a49c1f3f",
   "metadata": {},
   "outputs": [
    {
     "name": "stdin",
     "output_type": "stream",
     "text": [
      "enter the number 35\n"
     ]
    },
    {
     "name": "stdout",
     "output_type": "stream",
     "text": [
      "yes c is greater than 20 but less than 40\n"
     ]
    }
   ],
   "source": [
    "c=int(input(\"enter the number\"))\n",
    "if c>20 and c<40:\n",
    "    print(\"yes c is greater than 20 but less than 40\")\n",
    "elif c>40 and c<80:\n",
    "    print(\" yes c is greater than 40 but less than 80\")\n",
    "elif c>80 and  c<100:\n",
    "    print(\"yes c is greater than 80 but less than 100\")\n",
    "else:\n",
    "    print(\"no condition is satisfied from the above\")"
   ]
  },
  {
   "cell_type": "code",
   "execution_count": 13,
   "id": "180aea46-c11c-42e7-a324-20886de6df8c",
   "metadata": {},
   "outputs": [
    {
     "name": "stdin",
     "output_type": "stream",
     "text": [
      "enter the number 150\n"
     ]
    },
    {
     "name": "stdout",
     "output_type": "stream",
     "text": [
      "yes c is greater than 80 \n"
     ]
    }
   ],
   "source": [
    "c=int(input(\"enter the number\"))\n",
    "if c>20 and c<40:\n",
    "    print(\"yes c is greater than 20 but less than 40\")\n",
    "elif c>40 and c<80:\n",
    "    print(\" yes c is greater than 40 but less than 80\")\n",
    "elif c>80 :\n",
    "    print(\"yes c is greater than 80 \")\n",
    "else:\n",
    "    print(\"no condition is satisfied from the above\")"
   ]
  },
  {
   "cell_type": "code",
   "execution_count": 17,
   "id": "c050c4de-0569-49ba-9d25-4cafaac1fe70",
   "metadata": {},
   "outputs": [
    {
     "name": "stdout",
     "output_type": "stream",
     "text": [
      "4\n",
      "16\n",
      "64\n",
      "256\n",
      " code completed\n"
     ]
    }
   ],
   "source": [
    "n=300\n",
    "i=4\n",
    "while i<n:\n",
    "    print(i)\n",
    "    i*=4 \n",
    "else:\n",
    "    print(\" code completed\")"
   ]
  },
  {
   "cell_type": "code",
   "execution_count": 19,
   "id": "63d52554-0ca3-4e16-a464-c0632a26bd3d",
   "metadata": {},
   "outputs": [
    {
     "name": "stdout",
     "output_type": "stream",
     "text": [
      "4\n",
      "16\n",
      "64\n"
     ]
    }
   ],
   "source": [
    "n=300\n",
    "i=4\n",
    "while i<n:\n",
    "    print(i)\n",
    "    i*=4\n",
    "    if i==256:\n",
    "        break\n",
    "else:\n",
    "    print(\" code completed\")"
   ]
  },
  {
   "cell_type": "code",
   "execution_count": 20,
   "id": "b1c514ff-f259-4cc6-a358-d9680a4c93b1",
   "metadata": {},
   "outputs": [
    {
     "name": "stdout",
     "output_type": "stream",
     "text": [
      "4\n",
      "16\n",
      "64\n",
      "256\n",
      " code completed\n"
     ]
    }
   ],
   "source": [
    "n=300\n",
    "i=4\n",
    "while i<n:\n",
    "    print(i)\n",
    "    i*=4\n",
    "    if i==64:\n",
    "        continue\n",
    "else:\n",
    "    print(\" code completed\")"
   ]
  },
  {
   "cell_type": "code",
   "execution_count": 22,
   "id": "4989917b-6025-4a32-9e9e-2ef861e91575",
   "metadata": {},
   "outputs": [
    {
     "name": "stdout",
     "output_type": "stream",
     "text": [
      "I\n",
      "I\n",
      "T\n",
      " \n",
      "H\n",
      "Y\n",
      "D\n",
      "E\n",
      "R\n",
      "A\n",
      "B\n",
      "A\n",
      "D\n"
     ]
    }
   ],
   "source": [
    "g=\"IIT HYDERABAD\"\n",
    "for i in  g:\n",
    "    print(i)"
   ]
  },
  {
   "cell_type": "code",
   "execution_count": 23,
   "id": "6795e400-6dc4-460b-a375-835532b702a8",
   "metadata": {},
   "outputs": [],
   "source": [
    "l=[63,87,300,270,\"ayush\",\"hyderabad\",\"energy science\",\"mechanical\",7+8j,True,False]"
   ]
  },
  {
   "cell_type": "code",
   "execution_count": 27,
   "id": "67bd8295-39ef-464e-a4f1-8055659bd091",
   "metadata": {},
   "outputs": [
    {
     "name": "stdout",
     "output_type": "stream",
     "text": [
      "<class 'int'>\n",
      "63\n",
      "<class 'int'>\n",
      "87\n",
      "<class 'int'>\n",
      "300\n",
      "<class 'int'>\n",
      "270\n",
      "<class 'str'>\n",
      "ayush\n",
      "<class 'str'>\n",
      "hyderabad\n",
      "<class 'str'>\n",
      "energy science\n",
      "<class 'str'>\n",
      "mechanical\n",
      "<class 'complex'>\n",
      "<class 'bool'>\n",
      "True\n",
      "<class 'bool'>\n",
      "False\n",
      "code is completed\n"
     ]
    }
   ],
   "source": [
    "for i in l :\n",
    "    print(type(i))\n",
    "    if i==7+8j:\n",
    "        continue\n",
    "    print(i)\n",
    "else:\n",
    "    print(\"code is completed\")"
   ]
  },
  {
   "cell_type": "code",
   "execution_count": 28,
   "id": "72a117b6-2f9d-4608-b2e0-3dd17f7f423e",
   "metadata": {},
   "outputs": [
    {
     "data": {
      "text/plain": [
       "range(0, 10)"
      ]
     },
     "execution_count": 28,
     "metadata": {},
     "output_type": "execute_result"
    }
   ],
   "source": [
    "range(10)"
   ]
  },
  {
   "cell_type": "code",
   "execution_count": 29,
   "id": "bc581610-3d42-498f-8ed4-ad4239901549",
   "metadata": {},
   "outputs": [
    {
     "data": {
      "text/plain": [
       "[0, 1, 2, 3, 4, 5, 6, 7, 8, 9]"
      ]
     },
     "execution_count": 29,
     "metadata": {},
     "output_type": "execute_result"
    }
   ],
   "source": [
    "list(range(10))"
   ]
  },
  {
   "cell_type": "code",
   "execution_count": null,
   "id": "98588201-99ae-4d29-bd7e-99e4007450a2",
   "metadata": {},
   "outputs": [],
   "source": []
  }
 ],
 "metadata": {
  "kernelspec": {
   "display_name": "Python 3 (ipykernel)",
   "language": "python",
   "name": "python3"
  },
  "language_info": {
   "codemirror_mode": {
    "name": "ipython",
    "version": 3
   },
   "file_extension": ".py",
   "mimetype": "text/x-python",
   "name": "python",
   "nbconvert_exporter": "python",
   "pygments_lexer": "ipython3",
   "version": "3.10.8"
  }
 },
 "nbformat": 4,
 "nbformat_minor": 5
}
